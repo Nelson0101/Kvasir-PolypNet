{
 "cells": [
  {
   "cell_type": "code",
   "execution_count": null,
   "metadata": {},
   "outputs": [],
   "source": [
    "# List items in the dataset directory\n",
    "files = os.listdir(path)\n",
    "print(f\"Found {len(files)} items in the dataset directory:\")\n",
    "pprint(files)\n",
    "\n",
    "# If a 'dataset' subdirectory exists, explore its contents briefly\n",
    "dataset_path = os.path.join(path, 'dataset')\n",
    "if os.path.isdir(dataset_path):\n",
    "    print(\"\\nContents of the 'dataset' folder:\")\n",
    "    dataset_files = os.listdir(dataset_path)\n",
    "    pprint(dataset_files[:5])  # Showing first 5 items for brevity"
   ]
  },
  {
   "cell_type": "code",
   "execution_count": 15,
   "metadata": {},
   "outputs": [
    {
     "name": "stdout",
     "output_type": "stream",
     "text": [
      "Path to dataset files: /Users/jandalgali/.cache/kagglehub/datasets/heartzhacker/n-clahe/versions/1\n"
     ]
    }
   ],
   "source": [
    "import kagglehub\n",
    "import os\n",
    "from pprint import pprint\n",
    "\n",
    "# Check if the dataset is already downloaded\n",
    "if not os.path.exists(path):\n",
    "    # Download latest version\n",
    "    path = kagglehub.dataset_download(\"heartzhacker/n-clahe\")\n",
    "\n",
    "print(\"Path to dataset files:\", path)"
   ]
  },
  {
   "cell_type": "code",
   "execution_count": null,
   "metadata": {
    "vscode": {
     "languageId": "r"
    }
   },
   "outputs": [],
   "source": [
    "# List items in the dataset directory\n",
    "files = os.listdir(path)\n",
    "print(f\"Found {len(files)} items in the dataset directory:\")\n",
    "pprint(files)\n",
    "\n",
    "# If a 'dataset' subdirectory exists, explore its contents briefly\n",
    "dataset_path = os.path.join(path, 'dataset')\n",
    "if os.path.isdir(dataset_path):\n",
    "    print(\"\\nContents of the 'dataset' folder:\")\n",
    "    dataset_files = os.listdir(dataset_path)\n",
    "    pprint(dataset_files[:5])  # Showing first 5 items for brevity"
   ]
  }
 ],
 "metadata": {
  "kernelspec": {
   "display_name": ".venv",
   "language": "python",
   "name": "python3"
  },
  "language_info": {
   "codemirror_mode": {
    "name": "ipython",
    "version": 3
   },
   "file_extension": ".py",
   "mimetype": "text/x-python",
   "name": "python",
   "nbconvert_exporter": "python",
   "pygments_lexer": "ipython3",
   "version": "3.13.2"
  }
 },
 "nbformat": 4,
 "nbformat_minor": 2
}
