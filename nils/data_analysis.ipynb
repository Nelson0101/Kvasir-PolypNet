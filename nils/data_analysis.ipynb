{
 "cells": [
  {
   "metadata": {},
   "cell_type": "code",
   "outputs": [],
   "execution_count": null,
   "source": [
    "import numpy as np\n",
    "import kagglehub\n",
    "import os\n",
    "import matplotlib.pyplot as plt\n",
    "import cv2"
   ],
   "id": "a9d9959c6f5141a1"
  },
  {
   "metadata": {},
   "cell_type": "code",
   "outputs": [],
   "execution_count": null,
   "source": [
    "path = kagglehub.dataset_download(\"heartzhacker/n-clahe\")\n",
    "\n",
    "print(\"Path to dataset files:\", path)"
   ],
   "id": "4f8f9ec67faf3e40"
  },
  {
   "metadata": {},
   "cell_type": "code",
   "outputs": [],
   "execution_count": null,
   "source": [
    "main_path = '/Users/nilsgamperli/.cache/kagglehub/datasets/heartzhacker/n-clahe/versions/1/dataset/n-clahe/train1'\n",
    "images = []\n",
    "for subdirectory in os.listdir(main_path):\n",
    "    print(subdirectory)\n",
    "    if subdirectory == '.DS_Store':\n",
    "        continue\n",
    "    # Construct the path to the subdirectory\n",
    "    subdirectory_path = os.path.join(main_path, subdirectory)\n",
    "\n",
    "    # Iterate over all files in the subdirectory and add images to the list\n",
    "    for filename in os.listdir(subdirectory_path):\n",
    "        img_path = os.path.join(subdirectory_path, filename)\n",
    "        img = cv2.imread(img_path)\n",
    "        if img is not None:\n",
    "            images.append(img)"
   ],
   "id": "584f5e6a3a33dca3"
  },
  {
   "metadata": {},
   "cell_type": "code",
   "outputs": [],
   "execution_count": null,
   "source": [
    "for i in range(5):\n",
    "    plt.imshow(cv2.cvtColor(images[i], cv2.COLOR_BGR2RGB))\n",
    "    plt.show()"
   ],
   "id": "52a5aaa2897e16ca"
  }
 ],
 "metadata": {},
 "nbformat": 5,
 "nbformat_minor": 9
}
